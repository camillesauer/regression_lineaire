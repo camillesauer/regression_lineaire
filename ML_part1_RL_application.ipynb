{
 "cells": [
  {
   "cell_type": "markdown",
   "metadata": {},
   "source": [
    "# Mise en pratique [regression linéaire]"
   ]
  },
  {
   "cell_type": "markdown",
   "metadata": {},
   "source": [
    "A partir d'un jeu de données nous allons essayer de modéliser un loyer à partir de la surface d'un appartement\n",
    "\n",
    "La question qu'on essaie de résoudre est :\n",
    "Étant donné les caractéristiques de mon appartement, combien devrais-je normalement payer mon loyer ?"
   ]
  },
  {
   "cell_type": "markdown",
   "metadata": {},
   "source": [
    "## 1. Importation des données et configuration du data set"
   ]
  },
  {
   "cell_type": "code",
   "execution_count": 4,
   "metadata": {},
   "outputs": [],
   "source": [
    "# On importe les librairies dont on aura besoin pour ce tp\n",
    "import numpy as np\n",
    "import pandas as pd\n",
    "import matplotlib.pyplot as plt\n",
    "\n",
    "# On charge le dataset\n",
    "df = pd.read_csv('data.csv')"
   ]
  },
  {
   "cell_type": "markdown",
   "metadata": {},
   "source": [
    "## 2. Nettoyage des données"
   ]
  },
  {
   "cell_type": "code",
   "execution_count": 14,
   "metadata": {},
   "outputs": [
    {
     "data": {
      "text/html": [
       "<div>\n",
       "<style scoped>\n",
       "    .dataframe tbody tr th:only-of-type {\n",
       "        vertical-align: middle;\n",
       "    }\n",
       "\n",
       "    .dataframe tbody tr th {\n",
       "        vertical-align: top;\n",
       "    }\n",
       "\n",
       "    .dataframe thead th {\n",
       "        text-align: right;\n",
       "    }\n",
       "</style>\n",
       "<table border=\"1\" class=\"dataframe\">\n",
       "  <thead>\n",
       "    <tr style=\"text-align: right;\">\n",
       "      <th></th>\n",
       "      <th>loyer</th>\n",
       "      <th>surface</th>\n",
       "    </tr>\n",
       "  </thead>\n",
       "  <tbody>\n",
       "    <tr>\n",
       "      <th>count</th>\n",
       "      <td>545.0</td>\n",
       "      <td>545.0</td>\n",
       "    </tr>\n",
       "    <tr>\n",
       "      <th>mean</th>\n",
       "      <td>2308.0</td>\n",
       "      <td>63.0</td>\n",
       "    </tr>\n",
       "    <tr>\n",
       "      <th>std</th>\n",
       "      <td>2201.0</td>\n",
       "      <td>49.0</td>\n",
       "    </tr>\n",
       "    <tr>\n",
       "      <th>min</th>\n",
       "      <td>488.0</td>\n",
       "      <td>11.0</td>\n",
       "    </tr>\n",
       "    <tr>\n",
       "      <th>25%</th>\n",
       "      <td>1255.0</td>\n",
       "      <td>32.0</td>\n",
       "    </tr>\n",
       "    <tr>\n",
       "      <th>50%</th>\n",
       "      <td>1795.0</td>\n",
       "      <td>50.0</td>\n",
       "    </tr>\n",
       "    <tr>\n",
       "      <th>75%</th>\n",
       "      <td>2600.0</td>\n",
       "      <td>76.0</td>\n",
       "    </tr>\n",
       "    <tr>\n",
       "      <th>max</th>\n",
       "      <td>25000.0</td>\n",
       "      <td>415.0</td>\n",
       "    </tr>\n",
       "  </tbody>\n",
       "</table>\n",
       "</div>"
      ],
      "text/plain": [
       "         loyer  surface\n",
       "count    545.0    545.0\n",
       "mean    2308.0     63.0\n",
       "std     2201.0     49.0\n",
       "min      488.0     11.0\n",
       "25%     1255.0     32.0\n",
       "50%     1795.0     50.0\n",
       "75%     2600.0     76.0\n",
       "max    25000.0    415.0"
      ]
     },
     "execution_count": 14,
     "metadata": {},
     "output_type": "execute_result"
    }
   ],
   "source": [
    "round(df.describe())"
   ]
  },
  {
   "cell_type": "code",
   "execution_count": 7,
   "metadata": {},
   "outputs": [
    {
     "name": "stdout",
     "output_type": "stream",
     "text": [
      "Nombre de lignes dupliquées\n",
      "False    482\n",
      "True      63\n",
      "dtype: int64\n",
      "\n",
      "Nombre de valeurs manquantes\n",
      "loyer      0\n",
      "surface    0\n",
      "dtype: int64\n"
     ]
    }
   ],
   "source": [
    "print(\"Nombre de lignes dupliquées\")\n",
    "print(df.duplicated().value_counts())\n",
    "print(\"\\n\" + \"Nombre de valeurs manquantes\")\n",
    "print(df.isnull().sum()) "
   ]
  },
  {
   "cell_type": "markdown",
   "metadata": {},
   "source": [
    "Le jeu de données étant propre, je peux passer à l'étape suivante"
   ]
  },
  {
   "cell_type": "markdown",
   "metadata": {},
   "source": [
    "## 3. Exploration des données"
   ]
  },
  {
   "cell_type": "code",
   "execution_count": 8,
   "metadata": {},
   "outputs": [
    {
     "data": {
      "image/png": "[encoded data removed]",
      "text/plain": [
       "<Figure size 432x288 with 1 Axes>"
      ]
     },
     "metadata": {
      "needs_background": "light"
     },
     "output_type": "display_data"
    }
   ],
   "source": [
    "# On affiche le nuage de points dont on dispose\n",
    "plt.plot(df['surface'], df['loyer'], 'ro', markersize=4)\n",
    "plt.show()\n"
   ]
  },
  {
   "cell_type": "markdown",
   "metadata": {},
   "source": [
    "## 4. Choix du modèle de machine learning"
   ]
  },
  {
   "cell_type": "markdown",
   "metadata": {},
   "source": [
    "Clairement, d'après la visualisation, on peut se dire que le montant du loyer dépend de manière linéaire de la surface du logement. On peut donc émettre une hypothèse de modélisation qui est que le phénomène possède la forme d'une droite. "
   ]
  },
  {
   "cell_type": "markdown",
   "metadata": {},
   "source": [
    "## 5. Préparation des données"
   ]
  },
  {
   "cell_type": "markdown",
   "metadata": {},
   "source": [
    "### 5.a échantillonage"
   ]
  },
  {
   "cell_type": "code",
   "execution_count": null,
   "metadata": {},
   "outputs": [],
   "source": [
    "# Le jeu de données étant petit il n'est pas nécessaire de réaliser l'apprentissage sur un échantillon\n",
    "\n",
    "#df.sample(n=10000)"
   ]
  },
  {
   "cell_type": "markdown",
   "metadata": {},
   "source": [
    "### 5.b Sélection de la variable cible et des variables à explicatives"
   ]
  },
  {
   "cell_type": "markdown",
   "metadata": {},
   "source": [
    "On peut voir que lorsque la surface devient un peu trop grande, les données semblent devenir moins modélisables facilement, il y a plus de variabilité. On va considérer pour l'instant résoudre le problème de prédiction pour les loyers inférieurs à 10,000€, afin de conserver une robustesse du modèle à ces données plutôt anormales, qui correspondent peut-être à un autre modèle distinct ou à un traitement comme outliers.\n"
   ]
  },
  {
   "cell_type": "code",
   "execution_count": 15,
   "metadata": {},
   "outputs": [],
   "source": [
    "df = df[df['loyer'] < 10000]"
   ]
  },
  {
   "cell_type": "markdown",
   "metadata": {},
   "source": [
    "On définit à présent notre variable cible"
   ]
  },
  {
   "cell_type": "code",
   "execution_count": 16,
   "metadata": {},
   "outputs": [],
   "source": [
    "y = df.loyer"
   ]
  },
  {
   "cell_type": "markdown",
   "metadata": {},
   "source": [
    "Ainsi que nos variables explicatives (qui est ici unique)"
   ]
  },
  {
   "cell_type": "code",
   "execution_count": 17,
   "metadata": {},
   "outputs": [],
   "source": [
    "X = df[[\"surface\"]]"
   ]
  },
  {
   "cell_type": "markdown",
   "metadata": {},
   "source": [
    "## 6. Division du jeu de données en training/validation/testing sets"
   ]
  },
  {
   "cell_type": "code",
   "execution_count": 18,
   "metadata": {},
   "outputs": [],
   "source": [
    "from sklearn.model_selection import train_test_split\n",
    "xtrain, xtest, ytrain, ytest = train_test_split(X, y, train_size=0.8)"
   ]
  },
  {
   "cell_type": "markdown",
   "metadata": {},
   "source": [
    "## 8. Apprentissage sur le training set"
   ]
  },
  {
   "cell_type": "markdown",
   "metadata": {},
   "source": [
    "#### On implémente la regression linéaire"
   ]
  },
  {
   "cell_type": "code",
   "execution_count": 19,
   "metadata": {},
   "outputs": [
    {
     "data": {
      "text/plain": [
       "LinearRegression()"
      ]
     },
     "execution_count": 19,
     "metadata": {},
     "output_type": "execute_result"
    }
   ],
   "source": [
    "from sklearn import linear_model\n",
    "regr = linear_model.LinearRegression()\n",
    "regr.fit(xtrain, ytrain)"
   ]
  },
  {
   "cell_type": "markdown",
   "metadata": {},
   "source": [
    "#### On obtient ainsi les parmètres β1 et β0 de notre modèle"
   ]
  },
  {
   "cell_type": "code",
   "execution_count": 54,
   "metadata": {},
   "outputs": [
    {
     "name": "stdout",
     "output_type": "stream",
     "text": [
      "Le coefficient β1 est égal à 29.77 tandis que l'intercept β0 est égal à 308\n",
      "\n",
      "\n",
      "On comprend donc que tout appartement parisien coute 308 € auquel il faut ajouter 29.77 € par mètre carré\n"
     ]
    }
   ],
   "source": [
    "\n",
    "print(\"Le coefficient β1 est égal à {} tandis que l'intercept β0 est égal à {}\"\n",
    "      .format(round(regr.coef_[0],2),round(regr.intercept_)))\n",
    "\n",
    "print(\"\\n\")\n",
    "\n",
    "print(\"On comprend donc que tout appartement parisien coute {} € auquel il faut ajouter {} € par mètre carré\"\n",
    "     .format(round(regr.intercept_),round(regr.coef_[0],2)))"
   ]
  },
  {
   "cell_type": "markdown",
   "metadata": {},
   "source": [
    "#### On peut à présent réaliser des prédictions"
   ]
  },
  {
   "cell_type": "code",
   "execution_count": 55,
   "metadata": {},
   "outputs": [
    {
     "name": "stdout",
     "output_type": "stream",
     "text": [
      "Selon le modèle, un 25 m2 à Paris doit avoir un loyer de 1052 €\n",
      "\n",
      "\n",
      "On remarque que 25 * 29.77 + 308 = 1052.25\n"
     ]
    }
   ],
   "source": [
    "x_to_predict = 25\n",
    "x_df =  pd.DataFrame({'surface': [x_to_predict]})\n",
    "\n",
    "print(\"Selon le modèle, un {} m2 à Paris doit avoir un loyer de {} €\"\n",
    "      .format(x_to_predict, round(regr.predict(x_df)[0])))\n",
    "\n",
    "print(\"\\n\")\n",
    "\n",
    "print (\"On remarque que {} * {} + {} = {}\"\n",
    "       .format(x_to_predict,round(regr.coef_[0],2),round(regr.intercept_),\n",
    "               x_to_predict*round(regr.coef_[0],2)+round(regr.intercept_)))"
   ]
  },
  {
   "cell_type": "markdown",
   "metadata": {},
   "source": [
    "#### enfin on peut représenter notre modèle linéaire"
   ]
  },
  {
   "cell_type": "code",
   "execution_count": 63,
   "metadata": {},
   "outputs": [
    {
     "data": {
      "image/png": "[encoded data removed]",
      "text/plain": [
       "<Figure size 432x288 with 1 Axes>"
      ]
     },
     "metadata": {
      "needs_background": "light"
     },
     "output_type": "display_data"
    }
   ],
   "source": [
    "ytrainpred = regr.predict(xtrain)\n",
    "\n",
    "\n",
    "# Plot outputs\n",
    "plt.scatter(xtrain, ytrain,  color='red')\n",
    "plt.plot(xtrain, ytrainpred, color='blue', linewidth=3)\n",
    "\n",
    "plt.show()"
   ]
  },
  {
   "cell_type": "markdown",
   "metadata": {},
   "source": [
    "## 8. Evaluation du modèle sur le testing set"
   ]
  },
  {
   "cell_type": "code",
   "execution_count": 66,
   "metadata": {},
   "outputs": [],
   "source": [
    "from sklearn.metrics import mean_squared_error, r2_score"
   ]
  },
  {
   "cell_type": "markdown",
   "metadata": {},
   "source": [
    "#### évaluation à partir du R2"
   ]
  },
  {
   "cell_type": "code",
   "execution_count": 69,
   "metadata": {},
   "outputs": [
    {
     "name": "stdout",
     "output_type": "stream",
     "text": [
      "Pour les données d'entrainement le R2 vaut 0.822 alors que pour les données de test, il est de 0.828\n"
     ]
    }
   ],
   "source": [
    "ytrainpred = regr.predict(xtrain)\n",
    "ytestpred = regr.predict(xtest)\n",
    "\n",
    "print (\"Pour les données d'entrainement le R2 vaut {} alors que pour les données de test, il est de {}\" \n",
    "      .format(round(r2_score(ytrain, ytrainpred),3), round(r2_score(ytest, ytestpred),3)))\n",
    "\n"
   ]
  },
  {
   "cell_type": "markdown",
   "metadata": {},
   "source": [
    "Le coefficient de détermination R2 est proche de 1 , le modèle de regression linéaire est donc bon. De plus les R2 des jeux d'entrainement et de test sont proche, le modèle est donc robuste."
   ]
  },
  {
   "cell_type": "markdown",
   "metadata": {},
   "source": [
    "#### évaluation à partir du RMSE"
   ]
  },
  {
   "cell_type": "code",
   "execution_count": 70,
   "metadata": {},
   "outputs": [
    {
     "name": "stdout",
     "output_type": "stream",
     "text": [
      "Pour les données d'entrainement le RMSE vaut 494.284 alors que pour les données de test, il est de 560.274\n"
     ]
    }
   ],
   "source": [
    "print (\"Pour les données d'entrainement le RMSE vaut {} alors que pour les données de test, il est de {}\" \n",
    "      .format(round(mean_squared_error(ytrain, ytrainpred, squared=False),3), \n",
    "              round(mean_squared_error(ytest, ytestpred, squared=False),3)))"
   ]
  },
  {
   "cell_type": "markdown",
   "metadata": {},
   "source": [
    "A nouveau on remarque qu'il y a peu de perte entre les deux modèles"
   ]
  },
  {
   "cell_type": "markdown",
   "metadata": {},
   "source": [
    "#### évaluation graphique"
   ]
  },
  {
   "cell_type": "code",
   "execution_count": 71,
   "metadata": {},
   "outputs": [
    {
     "data": {
      "image/png": "[encoded data removed]",
      "text/plain": [
       "<Figure size 432x288 with 1 Axes>"
      ]
     },
     "metadata": {
      "needs_background": "light"
     },
     "output_type": "display_data"
    }
   ],
   "source": [
    "# Plot outputs\n",
    "plt.scatter(xtest, ytest,  color='red')\n",
    "plt.plot(xtest, ytestpred, color='blue', linewidth=3)\n",
    "\n",
    "plt.show()"
   ]
  },
  {
   "cell_type": "markdown",
   "metadata": {},
   "source": [
    "La droite correspond également bien au nuage de points de l'échantillon de test\n",
    "\n",
    "Remarque: Les résultats peuvent être meilleurs pour l'échantillon de test que dans celui de train, ce résultat est assez exeptionnel et est due au fait que l'aléa à classer dans l'échantillon de train des données fortement équartée du nuage de point, ainsi ces quelques données suffisent à dégrader le R2 de l'échantillon d'entrainement."
   ]
  }
 ],
 "metadata": {
  "kernelspec": {
   "display_name": "Python 3",
   "language": "python",
   "name": "python3"
  },
  "language_info": {
   "codemirror_mode": {
    "name": "ipython",
    "version": 3
   },
   "file_extension": ".py",
   "mimetype": "text/x-python",
   "name": "python",
   "nbconvert_exporter": "python",
   "pygments_lexer": "ipython3",
   "version": "3.8.5"
  }
 },
 "nbformat": 4,
 "nbformat_minor": 4
}
